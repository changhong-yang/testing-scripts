{
  "nbformat": 4,
  "nbformat_minor": 0,
  "metadata": {
    "colab": {
      "name": "Introduction.ipynb",
      "provenance": [],
      "authorship_tag": "ABX9TyPYXGvxHXBgKcdhWG8kH+sJ",
      "include_colab_link": true
    },
    "kernelspec": {
      "name": "python3",
      "display_name": "Python 3"
    },
    "language_info": {
      "name": "python"
    },
    "accelerator": "GPU",
    "gpuClass": "standard"
  },
  "cells": [
    {
      "cell_type": "markdown",
      "metadata": {
        "id": "view-in-github",
        "colab_type": "text"
      },
      "source": [
        "<a href=\"https://colab.research.google.com/github/changhong-yang/testing-scripts/blob/main/Pytorch/Introduction.ipynb\" target=\"_parent\"><img src=\"https://colab.research.google.com/assets/colab-badge.svg\" alt=\"Open In Colab\"/></a>"
      ]
    },
    {
      "cell_type": "code",
      "execution_count": 1,
      "metadata": {
        "id": "jlkLPD1N9upk"
      },
      "outputs": [],
      "source": [
        "import torch"
      ]
    },
    {
      "cell_type": "code",
      "source": [
        "# create some Tensors\n",
        "\n",
        "x = torch.Tensor([5,3])\n",
        "y = torch.Tensor([2,1])"
      ],
      "metadata": {
        "id": "BfGMt3_4-iYt"
      },
      "execution_count": 2,
      "outputs": []
    },
    {
      "cell_type": "code",
      "source": [
        "# tensor multiplication\n",
        "\n",
        "print(x*y)"
      ],
      "metadata": {
        "colab": {
          "base_uri": "https://localhost:8080/"
        },
        "id": "rm1j6yK1CN8D",
        "outputId": "a9272bd1-3419-450c-c85e-7ca8d608bb0d"
      },
      "execution_count": 3,
      "outputs": [
        {
          "output_type": "stream",
          "name": "stdout",
          "text": [
            "tensor([10.,  3.])\n"
          ]
        }
      ]
    },
    {
      "cell_type": "code",
      "source": [
        "# similar operation in numpy\n",
        "\n",
        "# zeros\n",
        "x = torch.zeros([2,5])\n",
        "print(x)\n",
        "\n",
        "# shape\n",
        "print(x.shape)\n",
        "\n",
        "# random\n",
        "y = torch.rand([2,5])\n",
        "print(y)"
      ],
      "metadata": {
        "colab": {
          "base_uri": "https://localhost:8080/"
        },
        "id": "oRzmNckmCS6w",
        "outputId": "e791490a-ed6a-485f-8f6f-2fe20bbe84a7"
      },
      "execution_count": 4,
      "outputs": [
        {
          "output_type": "stream",
          "name": "stdout",
          "text": [
            "tensor([[0., 0., 0., 0., 0.],\n",
            "        [0., 0., 0., 0., 0.]])\n",
            "torch.Size([2, 5])\n",
            "tensor([[0.1564, 0.7261, 0.1114, 0.0305, 0.2137],\n",
            "        [0.4125, 0.7845, 0.3901, 0.1034, 0.5467]])\n"
          ]
        }
      ]
    },
    {
      "cell_type": "code",
      "source": [
        "# tensor reshape\n",
        "y.view([1,10])"
      ],
      "metadata": {
        "colab": {
          "base_uri": "https://localhost:8080/"
        },
        "id": "zcxiZl-tCsTr",
        "outputId": "5bcc4c11-a9aa-4b51-9288-ec4d59557e7d"
      },
      "execution_count": 5,
      "outputs": [
        {
          "output_type": "execute_result",
          "data": {
            "text/plain": [
              "tensor([[0.1564, 0.7261, 0.1114, 0.0305, 0.2137, 0.4125, 0.7845, 0.3901, 0.1034,\n",
              "         0.5467]])"
            ]
          },
          "metadata": {},
          "execution_count": 5
        }
      ]
    },
    {
      "cell_type": "code",
      "source": [
        "# view() does not modify the tensor\n",
        "y"
      ],
      "metadata": {
        "colab": {
          "base_uri": "https://localhost:8080/"
        },
        "id": "QT814UKsC2wA",
        "outputId": "d7d08fdc-ba64-402e-baef-5c6cf07ad8f4"
      },
      "execution_count": 6,
      "outputs": [
        {
          "output_type": "execute_result",
          "data": {
            "text/plain": [
              "tensor([[0.1564, 0.7261, 0.1114, 0.0305, 0.2137],\n",
              "        [0.4125, 0.7845, 0.3901, 0.1034, 0.5467]])"
            ]
          },
          "metadata": {},
          "execution_count": 6
        }
      ]
    }
  ]
}